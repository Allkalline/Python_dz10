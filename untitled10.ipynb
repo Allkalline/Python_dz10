{
  "nbformat": 4,
  "nbformat_minor": 0,
  "metadata": {
    "colab": {
      "provenance": [],
      "authorship_tag": "ABX9TyO9vmxYFpnWT0RDVlmuSmqM",
      "include_colab_link": true
    },
    "kernelspec": {
      "name": "python3",
      "display_name": "Python 3"
    },
    "language_info": {
      "name": "python"
    }
  },
  "cells": [
    {
      "cell_type": "markdown",
      "metadata": {
        "id": "view-in-github",
        "colab_type": "text"
      },
      "source": [
        "<a href=\"https://colab.research.google.com/github/Allkalline/Python_dz10/blob/main/untitled10.ipynb\" target=\"_parent\"><img src=\"https://colab.research.google.com/assets/colab-badge.svg\" alt=\"Open In Colab\"/></a>"
      ]
    },
    {
      "cell_type": "code",
      "execution_count": null,
      "metadata": {
        "id": "6k8koJDRf8IX"
      },
      "outputs": [],
      "source": [
        "import random\n",
        "import pandas as pd\n",
        "import numpy as np\n",
        "\n",
        "lst = ['robot'] * 10\n",
        "lst += ['human'] * 10\n",
        "random.shuffle(lst)\n",
        "data = pd.DataFrame(lst)\n",
        "\n",
        "unique_values = np.unique(data)\n",
        "\n",
        "for value in unique_values:\n",
        "    data[value] = (data[0] == value).astype(int)\n",
        "\n",
        "data.drop(0, axis=1, inplace=True)\n",
        "\n",
        "data.head(20)"
      ]
    }
  ]
}